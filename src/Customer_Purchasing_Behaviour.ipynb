{
  "nbformat": 4,
  "nbformat_minor": 0,
  "metadata": {
    "colab": {
      "provenance": []
    },
    "kernelspec": {
      "name": "python3",
      "display_name": "Python 3"
    },
    "language_info": {
      "name": "python"
    }
  },
  "cells": [
    {
      "cell_type": "code",
      "execution_count": 1,
      "metadata": {
        "id": "v3WCIvS-6fuI"
      },
      "outputs": [],
      "source": [
        "# Problem Statement:\n",
        "# This analysis aims to identify distinct customer segments based on purchasing behaviors and demographics,\n",
        "# predict customer loyalty scores, and develop actionable insights to improve marketing strategies and\n",
        "# increase customer retention. The business objective is to understand which factors most influence\n",
        "# purchase amounts and loyalty, and develop targeted marketing campaigns for different customer segments."
      ]
    },
    {
      "cell_type": "code",
      "source": [
        "# Import necessary libraries\n",
        "import pandas as pd\n",
        "import numpy as np\n",
        "import matplotlib.pyplot as plt\n",
        "import seaborn as sns\n",
        "from sklearn.preprocessing import StandardScaler\n",
        "from sklearn.cluster import KMeans\n",
        "from sklearn.ensemble import RandomForestRegressor\n",
        "from sklearn.model_selection import train_test_split, cross_val_score\n",
        "from sklearn.metrics import mean_squared_error, r2_score\n",
        "from sklearn.decomposition import PCA\n",
        "import joblib\n",
        "import warnings\n",
        "warnings.filterwarnings('ignore')"
      ],
      "metadata": {
        "id": "2xXCQ_Ol6qee"
      },
      "execution_count": 2,
      "outputs": []
    },
    {
      "cell_type": "code",
      "source": [
        "# Set the style for visualizations\n",
        "plt.style.use('seaborn-v0_8-whitegrid')\n",
        "sns.set_palette('viridis')"
      ],
      "metadata": {
        "id": "aAdBxFEG6tlD"
      },
      "execution_count": 3,
      "outputs": []
    },
    {
      "cell_type": "code",
      "source": [
        "# Load the dataset\n",
        "df = pd.read_csv('Customer_Purchasing_Behaviors.csv')"
      ],
      "metadata": {
        "id": "oor83t6a6w8v"
      },
      "execution_count": 4,
      "outputs": []
    },
    {
      "cell_type": "code",
      "source": [
        "# 1. Exploratory Data Analysis (EDA)\n",
        "print(\"Data Overview:\")\n",
        "print(df.head())\n",
        "print(\"\\nData Info:\")\n",
        "print(df.info())\n",
        "print(\"\\nDescriptive Statistics:\")\n",
        "print(df.describe())"
      ],
      "metadata": {
        "colab": {
          "base_uri": "https://localhost:8080/"
        },
        "id": "DCUih5yd6zJF",
        "outputId": "7e18d591-59ce-4ff9-841d-f87f21d2ed67"
      },
      "execution_count": 5,
      "outputs": [
        {
          "output_type": "stream",
          "name": "stdout",
          "text": [
            "Data Overview:\n",
            "   user_id  age  annual_income  purchase_amount  loyalty_score region  \\\n",
            "0        1   25          45000              200            4.5  North   \n",
            "1        2   34          55000              350            7.0  South   \n",
            "2        3   45          65000              500            8.0   West   \n",
            "3        4   22          30000              150            3.0   East   \n",
            "4        5   29          47000              220            4.8  North   \n",
            "\n",
            "   purchase_frequency  \n",
            "0                  12  \n",
            "1                  18  \n",
            "2                  22  \n",
            "3                  10  \n",
            "4                  13  \n",
            "\n",
            "Data Info:\n",
            "<class 'pandas.core.frame.DataFrame'>\n",
            "RangeIndex: 238 entries, 0 to 237\n",
            "Data columns (total 7 columns):\n",
            " #   Column              Non-Null Count  Dtype  \n",
            "---  ------              --------------  -----  \n",
            " 0   user_id             238 non-null    int64  \n",
            " 1   age                 238 non-null    int64  \n",
            " 2   annual_income       238 non-null    int64  \n",
            " 3   purchase_amount     238 non-null    int64  \n",
            " 4   loyalty_score       238 non-null    float64\n",
            " 5   region              238 non-null    object \n",
            " 6   purchase_frequency  238 non-null    int64  \n",
            "dtypes: float64(1), int64(5), object(1)\n",
            "memory usage: 13.1+ KB\n",
            "None\n",
            "\n",
            "Descriptive Statistics:\n",
            "          user_id         age  annual_income  purchase_amount  loyalty_score  \\\n",
            "count  238.000000  238.000000     238.000000       238.000000     238.000000   \n",
            "mean   119.500000   38.676471   57407.563025       425.630252       6.794118   \n",
            "std     68.848868    9.351118   11403.875717       140.052062       1.899047   \n",
            "min      1.000000   22.000000   30000.000000       150.000000       3.000000   \n",
            "25%     60.250000   31.000000   50000.000000       320.000000       5.500000   \n",
            "50%    119.500000   39.000000   59000.000000       440.000000       7.000000   \n",
            "75%    178.750000   46.750000   66750.000000       527.500000       8.275000   \n",
            "max    238.000000   55.000000   75000.000000       640.000000       9.500000   \n",
            "\n",
            "       purchase_frequency  \n",
            "count          238.000000  \n",
            "mean            19.798319  \n",
            "std              4.562884  \n",
            "min             10.000000  \n",
            "25%             17.000000  \n",
            "50%             20.000000  \n",
            "75%             23.000000  \n",
            "max             28.000000  \n"
          ]
        }
      ]
    },
    {
      "cell_type": "code",
      "source": [
        "# Check for missing values\n",
        "print(\"\\nMissing Values:\")\n",
        "print(df.isnull().sum())"
      ],
      "metadata": {
        "colab": {
          "base_uri": "https://localhost:8080/"
        },
        "id": "Qijw00V4606X",
        "outputId": "90dd7647-88e6-4ecb-913d-4cecf815c6fa"
      },
      "execution_count": 6,
      "outputs": [
        {
          "output_type": "stream",
          "name": "stdout",
          "text": [
            "\n",
            "Missing Values:\n",
            "user_id               0\n",
            "age                   0\n",
            "annual_income         0\n",
            "purchase_amount       0\n",
            "loyalty_score         0\n",
            "region                0\n",
            "purchase_frequency    0\n",
            "dtype: int64\n"
          ]
        }
      ]
    },
    {
      "cell_type": "code",
      "source": [
        "# Visualize distributions of key variables\n",
        "plt.figure(figsize=(20, 15))"
      ],
      "metadata": {
        "colab": {
          "base_uri": "https://localhost:8080/",
          "height": 52
        },
        "id": "djWnkawO63CA",
        "outputId": "d71a2a28-2b0b-4436-adff-492b9ad91351"
      },
      "execution_count": 7,
      "outputs": [
        {
          "output_type": "execute_result",
          "data": {
            "text/plain": [
              "<Figure size 2000x1500 with 0 Axes>"
            ]
          },
          "metadata": {},
          "execution_count": 7
        },
        {
          "output_type": "display_data",
          "data": {
            "text/plain": [
              "<Figure size 2000x1500 with 0 Axes>"
            ]
          },
          "metadata": {}
        }
      ]
    },
    {
      "cell_type": "code",
      "source": [
        "# Age distribution\n",
        "plt.subplot(3, 3, 1)\n",
        "sns.histplot(df['age'], kde=True)\n",
        "plt.title('Age Distribution', fontsize=14)"
      ],
      "metadata": {
        "colab": {
          "base_uri": "https://localhost:8080/",
          "height": 222
        },
        "id": "vl-TmswB646w",
        "outputId": "e622609f-322f-4fb8-eca3-42f359c580c7"
      },
      "execution_count": 8,
      "outputs": [
        {
          "output_type": "execute_result",
          "data": {
            "text/plain": [
              "Text(0.5, 1.0, 'Age Distribution')"
            ]
          },
          "metadata": {},
          "execution_count": 8
        },
        {
          "output_type": "display_data",
          "data": {
            "text/plain": [
              "<Figure size 640x480 with 1 Axes>"
            ],
            "image/png": "[encoded data removed]"
          },
          "metadata": {}
        }
      ]
    },
    {
      "cell_type": "code",
      "source": [
        "# Annual income distribution\n",
        "plt.subplot(3, 3, 2)\n",
        "sns.histplot(df['annual_income'], kde=True)\n",
        "plt.title('Annual Income Distribution', fontsize=14)"
      ],
      "metadata": {
        "colab": {
          "base_uri": "https://localhost:8080/",
          "height": 222
        },
        "id": "vt8Y3uP8675M",
        "outputId": "b489282c-62e2-4cad-e03b-09771170559e"
      },
      "execution_count": 9,
      "outputs": [
        {
          "output_type": "execute_result",
          "data": {
            "text/plain": [
              "Text(0.5, 1.0, 'Annual Income Distribution')"
            ]
          },
          "metadata": {},
          "execution_count": 9
        },
        {
          "output_type": "display_data",
          "data": {
            "text/plain": [
              "<Figure size 640x480 with 1 Axes>"
            ],
            "image/png": "[encoded data removed]"
          },
          "metadata": {}
        }
      ]
    },
    {
      "cell_type": "code",
      "source": [
        "# Purchase amount distribution\n",
        "plt.subplot(3, 3, 3)\n",
        "sns.histplot(df['purchase_amount'], kde=True)\n",
        "plt.title('Purchase Amount Distribution', fontsize=14)"
      ],
      "metadata": {
        "colab": {
          "base_uri": "https://localhost:8080/",
          "height": 222
        },
        "id": "YH1ALOIz69_0",
        "outputId": "eb1372bc-9ffb-4288-e853-5247dd2426f4"
      },
      "execution_count": 10,
      "outputs": [
        {
          "output_type": "execute_result",
          "data": {
            "text/plain": [
              "Text(0.5, 1.0, 'Purchase Amount Distribution')"
            ]
          },
          "metadata": {},
          "execution_count": 10
        },
        {
          "output_type": "display_data",
          "data": {
            "text/plain": [
              "<Figure size 640x480 with 1 Axes>"
            ],
            "image/png": "[encoded data removed]"
          },
          "metadata": {}
        }
      ]
    },
    {
      "cell_type": "code",
      "source": [
        "# Loyalty score distribution\n",
        "plt.subplot(3, 3, 4)\n",
        "sns.histplot(df['loyalty_score'], kde=True)\n",
        "plt.title('Loyalty Score Distribution', fontsize=14)"
      ],
      "metadata": {
        "colab": {
          "base_uri": "https://localhost:8080/",
          "height": 222
        },
        "id": "EWotcGUL6_72",
        "outputId": "975879ca-c5d8-41e8-90b6-7e9f8238d075"
      },
      "execution_count": 11,
      "outputs": [
        {
          "output_type": "execute_result",
          "data": {
            "text/plain": [
              "Text(0.5, 1.0, 'Loyalty Score Distribution')"
            ]
          },
          "metadata": {},
          "execution_count": 11
        },
        {
          "output_type": "display_data",
          "data": {
            "text/plain": [
              "<Figure size 640x480 with 1 Axes>"
            ],
            "image/png": "[encoded data removed]"
          },
          "metadata": {}
        }
      ]
    },
    {
      "cell_type": "code",
      "source": [
        "# Purchase frequency distribution\n",
        "plt.subplot(3, 3, 5)\n",
        "sns.histplot(df['purchase_frequency'], kde=True)\n",
        "plt.title('Purchase Frequency Distribution', fontsize=14)"
      ],
      "metadata": {
        "colab": {
          "base_uri": "https://localhost:8080/",
          "height": 222
        },
        "id": "fMpQn2Fi7Foz",
        "outputId": "0b05deee-2ff4-47c3-ed13-3998656bd73f"
      },
      "execution_count": 12,
      "outputs": [
        {
          "output_type": "execute_result",
          "data": {
            "text/plain": [
              "Text(0.5, 1.0, 'Purchase Frequency Distribution')"
            ]
          },
          "metadata": {},
          "execution_count": 12
        },
        {
          "output_type": "display_data",
          "data": {
            "text/plain": [
              "<Figure size 640x480 with 1 Axes>"
            ],
            "image/png": "[encoded data removed]"
          },
          "metadata": {}
        }
      ]
    },
    {
      "cell_type": "code",
      "source": [
        "# Region distribution\n",
        "plt.subplot(3, 3, 6)\n",
        "region_counts = df['region'].value_counts()\n",
        "sns.barplot(x=region_counts.index, y=region_counts.values)\n",
        "plt.title('Customers by Region', fontsize=14)"
      ],
      "metadata": {
        "colab": {
          "base_uri": "https://localhost:8080/",
          "height": 222
        },
        "id": "TAD5byam7Hyk",
        "outputId": "c6b415be-1606-4a78-9b90-952a824655d1"
      },
      "execution_count": 13,
      "outputs": [
        {
          "output_type": "execute_result",
          "data": {
            "text/plain": [
              "Text(0.5, 1.0, 'Customers by Region')"
            ]
          },
          "metadata": {},
          "execution_count": 13
        },
        {
          "output_type": "display_data",
          "data": {
            "text/plain": [
              "<Figure size 640x480 with 1 Axes>"
            ],
            "image/png": "[encoded data removed]"
          },
          "metadata": {}
        }
      ]
    },
    {
      "cell_type": "code",
      "source": [
        "# Purchase amount by region\n",
        "plt.subplot(3, 3, 7)\n",
        "sns.boxplot(x='region', y='purchase_amount', data=df)\n",
        "plt.title('Purchase Amount by Region', fontsize=14)"
      ],
      "metadata": {
        "colab": {
          "base_uri": "https://localhost:8080/",
          "height": 222
        },
        "id": "Yvs7OGTW7J10",
        "outputId": "42371d3f-6854-4a6c-bd02-9f879c1edcc6"
      },
      "execution_count": 14,
      "outputs": [
        {
          "output_type": "execute_result",
          "data": {
            "text/plain": [
              "Text(0.5, 1.0, 'Purchase Amount by Region')"
            ]
          },
          "metadata": {},
          "execution_count": 14
        },
        {
          "output_type": "display_data",
          "data": {
            "text/plain": [
              "<Figure size 640x480 with 1 Axes>"
            ],
            "image/png": "[encoded data removed]"
          },
          "metadata": {}
        }
      ]
    },
    {
      "cell_type": "code",
      "source": [
        "# Loyalty score by region\n",
        "plt.subplot(3, 3, 8)\n",
        "sns.boxplot(x='region', y='loyalty_score', data=df)\n",
        "plt.title('Loyalty Score by Region', fontsize=14)\n",
        "\n",
        "plt.tight_layout()\n",
        "plt.savefig('distributions.png')\n",
        "plt.close()"
      ],
      "metadata": {
        "id": "76g1JkRR7LtO"
      },
      "execution_count": 15,
      "outputs": []
    },
    {
      "cell_type": "code",
      "source": [
        "# Correlation analysis\n",
        "plt.figure(figsize=(10, 8))\n",
        "correlation = df.select_dtypes(include=[np.number]).corr()\n",
        "mask = np.triu(correlation)\n",
        "sns.heatmap(correlation, annot=True, fmt='.2f', cmap='coolwarm', mask=mask)\n",
        "plt.title('Correlation Matrix', fontsize=16)\n",
        "plt.tight_layout()\n",
        "plt.savefig('correlation.png')\n",
        "plt.close()\n",
        "\n",
        "# Scatter plots for key relationships\n",
        "plt.figure(figsize=(20, 15))"
      ],
      "metadata": {
        "colab": {
          "base_uri": "https://localhost:8080/",
          "height": 52
        },
        "id": "LawU4JoY7QTJ",
        "outputId": "c739895c-013c-401f-d168-9c4197eecf60"
      },
      "execution_count": 20,
      "outputs": [
        {
          "output_type": "execute_result",
          "data": {
            "text/plain": [
              "<Figure size 2000x1500 with 0 Axes>"
            ]
          },
          "metadata": {},
          "execution_count": 20
        },
        {
          "output_type": "display_data",
          "data": {
            "text/plain": [
              "<Figure size 2000x1500 with 0 Axes>"
            ]
          },
          "metadata": {}
        }
      ]
    },
    {
      "cell_type": "code",
      "source": [
        "# Age vs Purchase Amount\n",
        "plt.subplot(2, 2, 1)\n",
        "sns.scatterplot(x='age', y='purchase_amount', hue='region', data=df, alpha=0.7)\n",
        "plt.title('Age vs Purchase Amount', fontsize=14)\n",
        "\n",
        "# Income vs Purchase Amount\n",
        "plt.subplot(2, 2, 2)\n",
        "sns.scatterplot(x='annual_income', y='purchase_amount', hue='region', data=df, alpha=0.7)\n",
        "plt.title('Annual Income vs Purchase Amount', fontsize=14)\n",
        "\n",
        "# Loyalty Score vs Purchase Frequency\n",
        "plt.subplot(2, 2, 3)\n",
        "sns.scatterplot(x='loyalty_score', y='purchase_frequency', hue='region', data=df, alpha=0.7)\n",
        "plt.title('Loyalty Score vs Purchase Frequency', fontsize=14)\n",
        "\n",
        "# Age vs Loyalty Score\n",
        "plt.subplot(2, 2, 4)\n",
        "sns.scatterplot(x='age', y='loyalty_score', hue='region', data=df, alpha=0.7)\n",
        "plt.title('Age vs Loyalty Score', fontsize=14)\n",
        "\n",
        "plt.tight_layout()\n",
        "plt.savefig('scatter_relationships.png')\n",
        "plt.close()"
      ],
      "metadata": {
        "id": "W5g7Jrjt7StZ"
      },
      "execution_count": 21,
      "outputs": []
    },
    {
      "cell_type": "code",
      "source": [
        "# 2. Data Preprocessing\n",
        "# Create a copy of the dataset for processing\n",
        "df_processed = df.copy()\n",
        "\n",
        "# One-hot encode categorical variables\n",
        "df_encoded = pd.get_dummies(df_processed, columns=['region'], drop_first=True)\n",
        "\n",
        "# Scale the features for clustering and modeling\n",
        "scaler = StandardScaler()\n",
        "scaled_features = scaler.fit_transform(df_encoded.drop(['user_id'], axis=1))\n",
        "scaled_df = pd.DataFrame(scaled_features, columns=df_encoded.columns[1:])"
      ],
      "metadata": {
        "id": "ek7VOq1B7WZA"
      },
      "execution_count": 22,
      "outputs": []
    },
    {
      "cell_type": "code",
      "source": [
        "# Save the scaler for future use\n",
        "joblib.dump(scaler, 'scaler.pkl')"
      ],
      "metadata": {
        "colab": {
          "base_uri": "https://localhost:8080/"
        },
        "id": "m-z-Y5ci7f6c",
        "outputId": "4783bba1-3bf2-437d-a741-16cd3c3c3fab"
      },
      "execution_count": 23,
      "outputs": [
        {
          "output_type": "execute_result",
          "data": {
            "text/plain": [
              "['scaler.pkl']"
            ]
          },
          "metadata": {},
          "execution_count": 23
        }
      ]
    },
    {
      "cell_type": "code",
      "source": [
        "# 3. Customer Segmentation using K-means Clustering\n",
        "# Determine optimal number of clusters using the elbow method\n",
        "inertia = []\n",
        "k_range = range(1, 11)\n",
        "for k in k_range:\n",
        "    kmeans = KMeans(n_clusters=k, random_state=42)\n",
        "    kmeans.fit(scaled_df)\n",
        "    inertia.append(kmeans.inertia_)"
      ],
      "metadata": {
        "id": "eNXTdesN7jBT"
      },
      "execution_count": 24,
      "outputs": []
    },
    {
      "cell_type": "code",
      "source": [
        "# Plot the elbow curve\n",
        "plt.figure(figsize=(10, 6))\n",
        "plt.plot(k_range, inertia, 'o-')\n",
        "plt.xlabel('Number of Clusters')\n",
        "plt.ylabel('Inertia')\n",
        "plt.title('Elbow Method for Optimal k')\n",
        "plt.grid(True)\n",
        "plt.savefig('elbow_method.png')\n",
        "plt.close()"
      ],
      "metadata": {
        "id": "hrzR10Y37k6b"
      },
      "execution_count": 26,
      "outputs": []
    },
    {
      "cell_type": "code",
      "source": [
        "# Based on elbow method, choose optimal k (let's assume k=4 for now)\n",
        "optimal_k = 4\n",
        "kmeans = KMeans(n_clusters=optimal_k, random_state=42)\n",
        "df_encoded['cluster'] = kmeans.fit_predict(scaled_df)"
      ],
      "metadata": {
        "id": "GVgXplup7m7V"
      },
      "execution_count": 27,
      "outputs": []
    },
    {
      "cell_type": "code",
      "source": [
        "# Save the clustering model\n",
        "joblib.dump(kmeans, 'kmeans_model.pkl')"
      ],
      "metadata": {
        "colab": {
          "base_uri": "https://localhost:8080/"
        },
        "id": "TFaen78V7rHf",
        "outputId": "853f8dde-3275-4329-c4b3-aba42723c5d9"
      },
      "execution_count": 28,
      "outputs": [
        {
          "output_type": "execute_result",
          "data": {
            "text/plain": [
              "['kmeans_model.pkl']"
            ]
          },
          "metadata": {},
          "execution_count": 28
        }
      ]
    },
    {
      "cell_type": "code",
      "source": [
        "# Analyze clusters\n",
        "cluster_analysis = df_encoded.groupby('cluster').mean()\n",
        "print(\"\\nCluster Analysis:\")\n",
        "print(cluster_analysis)"
      ],
      "metadata": {
        "colab": {
          "base_uri": "https://localhost:8080/"
        },
        "id": "VfDjNcgX7s5K",
        "outputId": "658cc7fc-b0e7-4485-a35e-dbea7195b623"
      },
      "execution_count": 29,
      "outputs": [
        {
          "output_type": "stream",
          "name": "stdout",
          "text": [
            "\n",
            "Cluster Analysis:\n",
            "            user_id        age  annual_income  purchase_amount  loyalty_score  \\\n",
            "cluster                                                                         \n",
            "0        125.958904  47.191781   67260.273973       552.054795       8.457534   \n",
            "1        120.534247  30.397260   48863.013699       304.383562       5.123288   \n",
            "2        113.560000  41.653333   61480.000000       475.600000       7.557333   \n",
            "3        113.529412  24.529412   33823.529412       182.941176       3.458824   \n",
            "\n",
            "         purchase_frequency  region_North  region_South  region_West  \n",
            "cluster                                                               \n",
            "0                 23.808219      0.109589      0.000000     0.890411  \n",
            "1                 16.041096      0.821918      0.000000     0.150685  \n",
            "2                 21.413333      0.133333      0.826667     0.000000  \n",
            "3                 11.588235      0.000000      0.882353     0.058824  \n"
          ]
        }
      ]
    },
    {
      "cell_type": "code",
      "source": [
        "# Visualize the clusters using PCA for dimensionality reduction\n",
        "pca = PCA(n_components=2)\n",
        "pca_result = pca.fit_transform(scaled_df)\n",
        "df_encoded['pca1'] = pca_result[:, 0]\n",
        "df_encoded['pca2'] = pca_result[:, 1]\n",
        "\n",
        "plt.figure(figsize=(12, 8))\n",
        "sns.scatterplot(x='pca1', y='pca2', hue='cluster', palette='viridis', data=df_encoded, s=100, alpha=0.7)\n",
        "plt.title('Customer Segments Visualization using PCA', fontsize=16)\n",
        "plt.xlabel('Principal Component 1')\n",
        "plt.ylabel('Principal Component 2')\n",
        "plt.savefig('clusters_pca.png')\n",
        "plt.close()"
      ],
      "metadata": {
        "id": "epw9BbEi7up6"
      },
      "execution_count": 30,
      "outputs": []
    },
    {
      "cell_type": "code",
      "source": [
        "# 4. Predictive Modeling - Predicting Loyalty Score\n",
        "# Prepare data for modeling\n",
        "X = df_encoded.drop(['user_id', 'loyalty_score', 'cluster', 'pca1', 'pca2'], axis=1)\n",
        "y = df_encoded['loyalty_score']\n"
      ],
      "metadata": {
        "id": "ue6yEu6v7xAH"
      },
      "execution_count": 31,
      "outputs": []
    },
    {
      "cell_type": "code",
      "source": [
        "# Split data into training and testing sets\n",
        "X_train, X_test, y_train, y_test = train_test_split(X, y, test_size=0.25, random_state=42)"
      ],
      "metadata": {
        "id": "5d4ial2-7zgi"
      },
      "execution_count": 32,
      "outputs": []
    },
    {
      "cell_type": "code",
      "source": [
        "# Train a Random Forest model\n",
        "rf_model = RandomForestRegressor(n_estimators=100, random_state=42)\n",
        "rf_model.fit(X_train, y_train)"
      ],
      "metadata": {
        "colab": {
          "base_uri": "https://localhost:8080/",
          "height": 80
        },
        "id": "AZUqzYfh71j_",
        "outputId": "786f688b-f191-4a3a-cd4c-5648254a3fdd"
      },
      "execution_count": 33,
      "outputs": [
        {
          "output_type": "execute_result",
          "data": {
            "text/plain": [
              "RandomForestRegressor(random_state=42)"
            ],
            "text/html": [
              "<style>#sk-container-id-1 {\n",
              "  /* Definition of color scheme common for light and dark mode */\n",
              "  --sklearn-color-text: #000;\n",
              "  --sklearn-color-text-muted: #666;\n",
              "  --sklearn-color-line: gray;\n",
              "  /* Definition of color scheme for unfitted estimators */\n",
              "  --sklearn-color-unfitted-level-0: #fff5e6;\n",
              "  --sklearn-color-unfitted-level-1: #f6e4d2;\n",
              "  --sklearn-color-unfitted-level-2: #ffe0b3;\n",
              "  --sklearn-color-unfitted-level-3: chocolate;\n",
              "  /* Definition of color scheme for fitted estimators */\n",
              "  --sklearn-color-fitted-level-0: #f0f8ff;\n",
              "  --sklearn-color-fitted-level-1: #d4ebff;\n",
              "  --sklearn-color-fitted-level-2: #b3dbfd;\n",
              "  --sklearn-color-fitted-level-3: cornflowerblue;\n",
              "\n",
              "  /* Specific color for light theme */\n",
              "  --sklearn-color-text-on-default-background: var(--sg-text-color, var(--theme-code-foreground, var(--jp-content-font-color1, black)));\n",
              "  --sklearn-color-background: var(--sg-background-color, var(--theme-background, var(--jp-layout-color0, white)));\n",
              "  --sklearn-color-border-box: var(--sg-text-color, var(--theme-code-foreground, var(--jp-content-font-color1, black)));\n",
              "  --sklearn-color-icon: #696969;\n",
              "\n",
              "  @media (prefers-color-scheme: dark) {\n",
              "    /* Redefinition of color scheme for dark theme */\n",
              "    --sklearn-color-text-on-default-background: var(--sg-text-color, var(--theme-code-foreground, var(--jp-content-font-color1, white)));\n",
              "    --sklearn-color-background: var(--sg-background-color, var(--theme-background, var(--jp-layout-color0, #111)));\n",
              "    --sklearn-color-border-box: var(--sg-text-color, var(--theme-code-foreground, var(--jp-content-font-color1, white)));\n",
              "    --sklearn-color-icon: #878787;\n",
              "  }\n",
              "}\n",
              "\n",
              "#sk-container-id-1 {\n",
              "  color: var(--sklearn-color-text);\n",
              "}\n",
              "\n",
              "#sk-container-id-1 pre {\n",
              "  padding: 0;\n",
              "}\n",
              "\n",
              "#sk-container-id-1 input.sk-hidden--visually {\n",
              "  border: 0;\n",
              "  clip: rect(1px 1px 1px 1px);\n",
              "  clip: rect(1px, 1px, 1px, 1px);\n",
              "  height: 1px;\n",
              "  margin: -1px;\n",
              "  overflow: hidden;\n",
              "  padding: 0;\n",
              "  position: absolute;\n",
              "  width: 1px;\n",
              "}\n",
              "\n",
              "#sk-container-id-1 div.sk-dashed-wrapped {\n",
              "  border: 1px dashed var(--sklearn-color-line);\n",
              "  margin: 0 0.4em 0.5em 0.4em;\n",
              "  box-sizing: border-box;\n",
              "  padding-bottom: 0.4em;\n",
              "  background-color: var(--sklearn-color-background);\n",
              "}\n",
              "\n",
              "#sk-container-id-1 div.sk-container {\n",
              "  /* jupyter's `normalize.less` sets `[hidden] { display: none; }`\n",
              "     but bootstrap.min.css set `[hidden] { display: none !important; }`\n",
              "     so we also need the `!important` here to be able to override the\n",
              "     default hidden behavior on the sphinx rendered scikit-learn.org.\n",
              "     See: https://github.com/scikit-learn/scikit-learn/issues/21755 */\n",
              "  display: inline-block !important;\n",
              "  position: relative;\n",
              "}\n",
              "\n",
              "#sk-container-id-1 div.sk-text-repr-fallback {\n",
              "  display: none;\n",
              "}\n",
              "\n",
              "div.sk-parallel-item,\n",
              "div.sk-serial,\n",
              "div.sk-item {\n",
              "  /* draw centered vertical line to link estimators */\n",
              "  background-image: linear-gradient(var(--sklearn-color-text-on-default-background), var(--sklearn-color-text-on-default-background));\n",
              "  background-size: 2px 100%;\n",
              "  background-repeat: no-repeat;\n",
              "  background-position: center center;\n",
              "}\n",
              "\n",
              "/* Parallel-specific style estimator block */\n",
              "\n",
              "#sk-container-id-1 div.sk-parallel-item::after {\n",
              "  content: \"\";\n",
              "  width: 100%;\n",
              "  border-bottom: 2px solid var(--sklearn-color-text-on-default-background);\n",
              "  flex-grow: 1;\n",
              "}\n",
              "\n",
              "#sk-container-id-1 div.sk-parallel {\n",
              "  display: flex;\n",
              "  align-items: stretch;\n",
              "  justify-content: center;\n",
              "  background-color: var(--sklearn-color-background);\n",
              "  position: relative;\n",
              "}\n",
              "\n",
              "#sk-container-id-1 div.sk-parallel-item {\n",
              "  display: flex;\n",
              "  flex-direction: column;\n",
              "}\n",
              "\n",
              "#sk-container-id-1 div.sk-parallel-item:first-child::after {\n",
              "  align-self: flex-end;\n",
              "  width: 50%;\n",
              "}\n",
              "\n",
              "#sk-container-id-1 div.sk-parallel-item:last-child::after {\n",
              "  align-self: flex-start;\n",
              "  width: 50%;\n",
              "}\n",
              "\n",
              "#sk-container-id-1 div.sk-parallel-item:only-child::after {\n",
              "  width: 0;\n",
              "}\n",
              "\n",
              "/* Serial-specific style estimator block */\n",
              "\n",
              "#sk-container-id-1 div.sk-serial {\n",
              "  display: flex;\n",
              "  flex-direction: column;\n",
              "  align-items: center;\n",
              "  background-color: var(--sklearn-color-background);\n",
              "  padding-right: 1em;\n",
              "  padding-left: 1em;\n",
              "}\n",
              "\n",
              "\n",
              "/* Toggleable style: style used for estimator/Pipeline/ColumnTransformer box that is\n",
              "clickable and can be expanded/collapsed.\n",
              "- Pipeline and ColumnTransformer use this feature and define the default style\n",
              "- Estimators will overwrite some part of the style using the `sk-estimator` class\n",
              "*/\n",
              "\n",
              "/* Pipeline and ColumnTransformer style (default) */\n",
              "\n",
              "#sk-container-id-1 div.sk-toggleable {\n",
              "  /* Default theme specific background. It is overwritten whether we have a\n",
              "  specific estimator or a Pipeline/ColumnTransformer */\n",
              "  background-color: var(--sklearn-color-background);\n",
              "}\n",
              "\n",
              "/* Toggleable label */\n",
              "#sk-container-id-1 label.sk-toggleable__label {\n",
              "  cursor: pointer;\n",
              "  display: flex;\n",
              "  width: 100%;\n",
              "  margin-bottom: 0;\n",
              "  padding: 0.5em;\n",
              "  box-sizing: border-box;\n",
              "  text-align: center;\n",
              "  align-items: start;\n",
              "  justify-content: space-between;\n",
              "  gap: 0.5em;\n",
              "}\n",
              "\n",
              "#sk-container-id-1 label.sk-toggleable__label .caption {\n",
              "  font-size: 0.6rem;\n",
              "  font-weight: lighter;\n",
              "  color: var(--sklearn-color-text-muted);\n",
              "}\n",
              "\n",
              "#sk-container-id-1 label.sk-toggleable__label-arrow:before {\n",
              "  /* Arrow on the left of the label */\n",
              "  content: \"▸\";\n",
              "  float: left;\n",
              "  margin-right: 0.25em;\n",
              "  color: var(--sklearn-color-icon);\n",
              "}\n",
              "\n",
              "#sk-container-id-1 label.sk-toggleable__label-arrow:hover:before {\n",
              "  color: var(--sklearn-color-text);\n",
              "}\n",
              "\n",
              "/* Toggleable content - dropdown */\n",
              "\n",
              "#sk-container-id-1 div.sk-toggleable__content {\n",
              "  max-height: 0;\n",
              "  max-width: 0;\n",
              "  overflow: hidden;\n",
              "  text-align: left;\n",
              "  /* unfitted */\n",
              "  background-color: var(--sklearn-color-unfitted-level-0);\n",
              "}\n",
              "\n",
              "#sk-container-id-1 div.sk-toggleable__content.fitted {\n",
              "  /* fitted */\n",
              "  background-color: var(--sklearn-color-fitted-level-0);\n",
              "}\n",
              "\n",
              "#sk-container-id-1 div.sk-toggleable__content pre {\n",
              "  margin: 0.2em;\n",
              "  border-radius: 0.25em;\n",
              "  color: var(--sklearn-color-text);\n",
              "  /* unfitted */\n",
              "  background-color: var(--sklearn-color-unfitted-level-0);\n",
              "}\n",
              "\n",
              "#sk-container-id-1 div.sk-toggleable__content.fitted pre {\n",
              "  /* unfitted */\n",
              "  background-color: var(--sklearn-color-fitted-level-0);\n",
              "}\n",
              "\n",
              "#sk-container-id-1 input.sk-toggleable__control:checked~div.sk-toggleable__content {\n",
              "  /* Expand drop-down */\n",
              "  max-height: 200px;\n",
              "  max-width: 100%;\n",
              "  overflow: auto;\n",
              "}\n",
              "\n",
              "#sk-container-id-1 input.sk-toggleable__control:checked~label.sk-toggleable__label-arrow:before {\n",
              "  content: \"▾\";\n",
              "}\n",
              "\n",
              "/* Pipeline/ColumnTransformer-specific style */\n",
              "\n",
              "#sk-container-id-1 div.sk-label input.sk-toggleable__control:checked~label.sk-toggleable__label {\n",
              "  color: var(--sklearn-color-text);\n",
              "  background-color: var(--sklearn-color-unfitted-level-2);\n",
              "}\n",
              "\n",
              "#sk-container-id-1 div.sk-label.fitted input.sk-toggleable__control:checked~label.sk-toggleable__label {\n",
              "  background-color: var(--sklearn-color-fitted-level-2);\n",
              "}\n",
              "\n",
              "/* Estimator-specific style */\n",
              "\n",
              "/* Colorize estimator box */\n",
              "#sk-container-id-1 div.sk-estimator input.sk-toggleable__control:checked~label.sk-toggleable__label {\n",
              "  /* unfitted */\n",
              "  background-color: var(--sklearn-color-unfitted-level-2);\n",
              "}\n",
              "\n",
              "#sk-container-id-1 div.sk-estimator.fitted input.sk-toggleable__control:checked~label.sk-toggleable__label {\n",
              "  /* fitted */\n",
              "  background-color: var(--sklearn-color-fitted-level-2);\n",
              "}\n",
              "\n",
              "#sk-container-id-1 div.sk-label label.sk-toggleable__label,\n",
              "#sk-container-id-1 div.sk-label label {\n",
              "  /* The background is the default theme color */\n",
              "  color: var(--sklearn-color-text-on-default-background);\n",
              "}\n",
              "\n",
              "/* On hover, darken the color of the background */\n",
              "#sk-container-id-1 div.sk-label:hover label.sk-toggleable__label {\n",
              "  color: var(--sklearn-color-text);\n",
              "  background-color: var(--sklearn-color-unfitted-level-2);\n",
              "}\n",
              "\n",
              "/* Label box, darken color on hover, fitted */\n",
              "#sk-container-id-1 div.sk-label.fitted:hover label.sk-toggleable__label.fitted {\n",
              "  color: var(--sklearn-color-text);\n",
              "  background-color: var(--sklearn-color-fitted-level-2);\n",
              "}\n",
              "\n",
              "/* Estimator label */\n",
              "\n",
              "#sk-container-id-1 div.sk-label label {\n",
              "  font-family: monospace;\n",
              "  font-weight: bold;\n",
              "  display: inline-block;\n",
              "  line-height: 1.2em;\n",
              "}\n",
              "\n",
              "#sk-container-id-1 div.sk-label-container {\n",
              "  text-align: center;\n",
              "}\n",
              "\n",
              "/* Estimator-specific */\n",
              "#sk-container-id-1 div.sk-estimator {\n",
              "  font-family: monospace;\n",
              "  border: 1px dotted var(--sklearn-color-border-box);\n",
              "  border-radius: 0.25em;\n",
              "  box-sizing: border-box;\n",
              "  margin-bottom: 0.5em;\n",
              "  /* unfitted */\n",
              "  background-color: var(--sklearn-color-unfitted-level-0);\n",
              "}\n",
              "\n",
              "#sk-container-id-1 div.sk-estimator.fitted {\n",
              "  /* fitted */\n",
              "  background-color: var(--sklearn-color-fitted-level-0);\n",
              "}\n",
              "\n",
              "/* on hover */\n",
              "#sk-container-id-1 div.sk-estimator:hover {\n",
              "  /* unfitted */\n",
              "  background-color: var(--sklearn-color-unfitted-level-2);\n",
              "}\n",
              "\n",
              "#sk-container-id-1 div.sk-estimator.fitted:hover {\n",
              "  /* fitted */\n",
              "  background-color: var(--sklearn-color-fitted-level-2);\n",
              "}\n",
              "\n",
              "/* Specification for estimator info (e.g. \"i\" and \"?\") */\n",
              "\n",
              "/* Common style for \"i\" and \"?\" */\n",
              "\n",
              ".sk-estimator-doc-link,\n",
              "a:link.sk-estimator-doc-link,\n",
              "a:visited.sk-estimator-doc-link {\n",
              "  float: right;\n",
              "  font-size: smaller;\n",
              "  line-height: 1em;\n",
              "  font-family: monospace;\n",
              "  background-color: var(--sklearn-color-background);\n",
              "  border-radius: 1em;\n",
              "  height: 1em;\n",
              "  width: 1em;\n",
              "  text-decoration: none !important;\n",
              "  margin-left: 0.5em;\n",
              "  text-align: center;\n",
              "  /* unfitted */\n",
              "  border: var(--sklearn-color-unfitted-level-1) 1pt solid;\n",
              "  color: var(--sklearn-color-unfitted-level-1);\n",
              "}\n",
              "\n",
              ".sk-estimator-doc-link.fitted,\n",
              "a:link.sk-estimator-doc-link.fitted,\n",
              "a:visited.sk-estimator-doc-link.fitted {\n",
              "  /* fitted */\n",
              "  border: var(--sklearn-color-fitted-level-1) 1pt solid;\n",
              "  color: var(--sklearn-color-fitted-level-1);\n",
              "}\n",
              "\n",
              "/* On hover */\n",
              "div.sk-estimator:hover .sk-estimator-doc-link:hover,\n",
              ".sk-estimator-doc-link:hover,\n",
              "div.sk-label-container:hover .sk-estimator-doc-link:hover,\n",
              ".sk-estimator-doc-link:hover {\n",
              "  /* unfitted */\n",
              "  background-color: var(--sklearn-color-unfitted-level-3);\n",
              "  color: var(--sklearn-color-background);\n",
              "  text-decoration: none;\n",
              "}\n",
              "\n",
              "div.sk-estimator.fitted:hover .sk-estimator-doc-link.fitted:hover,\n",
              ".sk-estimator-doc-link.fitted:hover,\n",
              "div.sk-label-container:hover .sk-estimator-doc-link.fitted:hover,\n",
              ".sk-estimator-doc-link.fitted:hover {\n",
              "  /* fitted */\n",
              "  background-color: var(--sklearn-color-fitted-level-3);\n",
              "  color: var(--sklearn-color-background);\n",
              "  text-decoration: none;\n",
              "}\n",
              "\n",
              "/* Span, style for the box shown on hovering the info icon */\n",
              ".sk-estimator-doc-link span {\n",
              "  display: none;\n",
              "  z-index: 9999;\n",
              "  position: relative;\n",
              "  font-weight: normal;\n",
              "  right: .2ex;\n",
              "  padding: .5ex;\n",
              "  margin: .5ex;\n",
              "  width: min-content;\n",
              "  min-width: 20ex;\n",
              "  max-width: 50ex;\n",
              "  color: var(--sklearn-color-text);\n",
              "  box-shadow: 2pt 2pt 4pt #999;\n",
              "  /* unfitted */\n",
              "  background: var(--sklearn-color-unfitted-level-0);\n",
              "  border: .5pt solid var(--sklearn-color-unfitted-level-3);\n",
              "}\n",
              "\n",
              ".sk-estimator-doc-link.fitted span {\n",
              "  /* fitted */\n",
              "  background: var(--sklearn-color-fitted-level-0);\n",
              "  border: var(--sklearn-color-fitted-level-3);\n",
              "}\n",
              "\n",
              ".sk-estimator-doc-link:hover span {\n",
              "  display: block;\n",
              "}\n",
              "\n",
              "/* \"?\"-specific style due to the `<a>` HTML tag */\n",
              "\n",
              "#sk-container-id-1 a.estimator_doc_link {\n",
              "  float: right;\n",
              "  font-size: 1rem;\n",
              "  line-height: 1em;\n",
              "  font-family: monospace;\n",
              "  background-color: var(--sklearn-color-background);\n",
              "  border-radius: 1rem;\n",
              "  height: 1rem;\n",
              "  width: 1rem;\n",
              "  text-decoration: none;\n",
              "  /* unfitted */\n",
              "  color: var(--sklearn-color-unfitted-level-1);\n",
              "  border: var(--sklearn-color-unfitted-level-1) 1pt solid;\n",
              "}\n",
              "\n",
              "#sk-container-id-1 a.estimator_doc_link.fitted {\n",
              "  /* fitted */\n",
              "  border: var(--sklearn-color-fitted-level-1) 1pt solid;\n",
              "  color: var(--sklearn-color-fitted-level-1);\n",
              "}\n",
              "\n",
              "/* On hover */\n",
              "#sk-container-id-1 a.estimator_doc_link:hover {\n",
              "  /* unfitted */\n",
              "  background-color: var(--sklearn-color-unfitted-level-3);\n",
              "  color: var(--sklearn-color-background);\n",
              "  text-decoration: none;\n",
              "}\n",
              "\n",
              "#sk-container-id-1 a.estimator_doc_link.fitted:hover {\n",
              "  /* fitted */\n",
              "  background-color: var(--sklearn-color-fitted-level-3);\n",
              "}\n",
              "</style><div id=\"sk-container-id-1\" class=\"sk-top-container\"><div class=\"sk-text-repr-fallback\"><pre>RandomForestRegressor(random_state=42)</pre><b>In a Jupyter environment, please rerun this cell to show the HTML representation or trust the notebook. <br />On GitHub, the HTML representation is unable to render, please try loading this page with nbviewer.org.</b></div><div class=\"sk-container\" hidden><div class=\"sk-item\"><div class=\"sk-estimator fitted sk-toggleable\"><input class=\"sk-toggleable__control sk-hidden--visually\" id=\"sk-estimator-id-1\" type=\"checkbox\" checked><label for=\"sk-estimator-id-1\" class=\"sk-toggleable__label fitted sk-toggleable__label-arrow\"><div><div>RandomForestRegressor</div></div><div><a class=\"sk-estimator-doc-link fitted\" rel=\"noreferrer\" target=\"_blank\" href=\"https://scikit-learn.org/1.6/modules/generated/sklearn.ensemble.RandomForestRegressor.html\">?<span>Documentation for RandomForestRegressor</span></a><span class=\"sk-estimator-doc-link fitted\">i<span>Fitted</span></span></div></label><div class=\"sk-toggleable__content fitted\"><pre>RandomForestRegressor(random_state=42)</pre></div> </div></div></div></div>"
            ]
          },
          "metadata": {},
          "execution_count": 33
        }
      ]
    },
    {
      "cell_type": "code",
      "source": [
        "# Evaluate the model\n",
        "y_pred = rf_model.predict(X_test)\n",
        "mse = mean_squared_error(y_test, y_pred)\n",
        "rmse = np.sqrt(mse)\n",
        "r2 = r2_score(y_test, y_pred)\n",
        "\n",
        "print(\"\\nModel Evaluation:\")\n",
        "print(f\"RMSE: {rmse:.4f}\")\n",
        "print(f\"R² Score: {r2:.4f}\")\n"
      ],
      "metadata": {
        "colab": {
          "base_uri": "https://localhost:8080/"
        },
        "id": "neZwOmB773vV",
        "outputId": "402fa111-4b2e-4d15-bb98-ace6685eafb9"
      },
      "execution_count": 34,
      "outputs": [
        {
          "output_type": "stream",
          "name": "stdout",
          "text": [
            "\n",
            "Model Evaluation:\n",
            "RMSE: 0.0421\n",
            "R² Score: 0.9996\n"
          ]
        }
      ]
    },
    {
      "cell_type": "code",
      "source": [
        "# Cross-validation\n",
        "cv_scores = cross_val_score(rf_model, X, y, cv=5, scoring='r2')\n",
        "print(f\"Cross-Validation R² Scores: {cv_scores}\")\n",
        "print(f\"Mean CV R² Score: {cv_scores.mean():.4f}\")\n"
      ],
      "metadata": {
        "colab": {
          "base_uri": "https://localhost:8080/"
        },
        "id": "3KYW3JjE76G_",
        "outputId": "5c6752e1-e991-4220-9d1a-e2d3110d5d52"
      },
      "execution_count": 35,
      "outputs": [
        {
          "output_type": "stream",
          "name": "stdout",
          "text": [
            "Cross-Validation R² Scores: [0.97701426 0.99999935 0.99999933 0.99999925 0.99999924]\n",
            "Mean CV R² Score: 0.9954\n"
          ]
        }
      ]
    },
    {
      "cell_type": "code",
      "source": [
        "# Save the model\n",
        "joblib.dump(rf_model, 'rf_model.pkl')"
      ],
      "metadata": {
        "colab": {
          "base_uri": "https://localhost:8080/"
        },
        "id": "YWlfwHK978ZZ",
        "outputId": "8d8daeaa-cb3c-4d44-db85-edfcb206fe9b"
      },
      "execution_count": 36,
      "outputs": [
        {
          "output_type": "execute_result",
          "data": {
            "text/plain": [
              "['rf_model.pkl']"
            ]
          },
          "metadata": {},
          "execution_count": 36
        }
      ]
    },
    {
      "cell_type": "code",
      "source": [
        "# 5. Feature Importance Analysis\n",
        "feature_importance = pd.DataFrame({\n",
        "    'Feature': X.columns,\n",
        "    'Importance': rf_model.feature_importances_\n",
        "}).sort_values('Importance', ascending=False)\n",
        "\n",
        "print(\"\\nFeature Importance:\")\n",
        "print(feature_importance)\n",
        "\n",
        "plt.figure(figsize=(12, 8))\n",
        "sns.barplot(x='Importance', y='Feature', data=feature_importance)\n",
        "plt.title('Feature Importance for Predicting Loyalty Score', fontsize=16)\n",
        "plt.tight_layout()\n",
        "plt.savefig('feature_importance.png')\n",
        "plt.close()\n"
      ],
      "metadata": {
        "colab": {
          "base_uri": "https://localhost:8080/"
        },
        "id": "Ys4U5VEc7-UL",
        "outputId": "819c2589-7bb3-4e27-e02d-00f73bae845a"
      },
      "execution_count": 37,
      "outputs": [
        {
          "output_type": "stream",
          "name": "stdout",
          "text": [
            "\n",
            "Feature Importance:\n",
            "              Feature  Importance\n",
            "1       annual_income    0.437437\n",
            "0                 age    0.272937\n",
            "2     purchase_amount    0.210433\n",
            "3  purchase_frequency    0.078256\n",
            "5        region_South    0.000659\n",
            "4        region_North    0.000219\n",
            "6         region_West    0.000058\n"
          ]
        }
      ]
    },
    {
      "cell_type": "code",
      "source": [
        "# 6. Advanced Cluster Analysis\n",
        "# Add the cluster labels back to the original dataframe\n",
        "df['cluster'] = df_encoded['cluster']\n"
      ],
      "metadata": {
        "id": "Dhz5bAyr8BA0"
      },
      "execution_count": 38,
      "outputs": []
    },
    {
      "cell_type": "code",
      "source": [
        "# Create a detailed cluster profile\n",
        "cluster_profiles = pd.DataFrame()\n",
        "for cluster in range(optimal_k):\n",
        "    cluster_data = df[df['cluster'] == cluster]\n",
        "    cluster_profile = {\n",
        "        'Cluster Size': len(cluster_data),\n",
        "        'Avg Age': cluster_data['age'].mean(),\n",
        "        'Avg Income': cluster_data['annual_income'].mean(),\n",
        "        'Avg Purchase': cluster_data['purchase_amount'].mean(),\n",
        "        'Avg Loyalty': cluster_data['loyalty_score'].mean(),\n",
        "        'Avg Purchase Freq': cluster_data['purchase_frequency'].mean(),\n",
        "        'North %': (cluster_data['region'] == 'North').mean() * 100,\n",
        "        'South %': (cluster_data['region'] == 'South').mean() * 100,\n",
        "        'East %': (cluster_data['region'] == 'East').mean() * 100,\n",
        "        'West %': (cluster_data['region'] == 'West').mean() * 100\n",
        "    }\n",
        "    cluster_profiles = pd.concat([cluster_profiles, pd.DataFrame(cluster_profile, index=[f'Cluster {cluster}'])])\n",
        "\n",
        "print(\"\\nDetailed Cluster Profiles:\")\n",
        "print(cluster_profiles)\n"
      ],
      "metadata": {
        "colab": {
          "base_uri": "https://localhost:8080/"
        },
        "id": "MHMf-GLC8DpG",
        "outputId": "b4fae017-7692-418f-8cf9-d4ecc8d2108c"
      },
      "execution_count": 39,
      "outputs": [
        {
          "output_type": "stream",
          "name": "stdout",
          "text": [
            "\n",
            "Detailed Cluster Profiles:\n",
            "           Cluster Size    Avg Age    Avg Income  Avg Purchase  Avg Loyalty  \\\n",
            "Cluster 0            73  47.191781  67260.273973    552.054795     8.457534   \n",
            "Cluster 1            73  30.397260  48863.013699    304.383562     5.123288   \n",
            "Cluster 2            75  41.653333  61480.000000    475.600000     7.557333   \n",
            "Cluster 3            17  24.529412  33823.529412    182.941176     3.458824   \n",
            "\n",
            "           Avg Purchase Freq    North %    South %    East %     West %  \n",
            "Cluster 0          23.808219  10.958904   0.000000  0.000000  89.041096  \n",
            "Cluster 1          16.041096  82.191781   0.000000  2.739726  15.068493  \n",
            "Cluster 2          21.413333  13.333333  82.666667  4.000000   0.000000  \n",
            "Cluster 3          11.588235   0.000000  88.235294  5.882353   5.882353  \n"
          ]
        }
      ]
    },
    {
      "cell_type": "code",
      "source": [
        "# 7. Age Group Analysis\n",
        "# Create age groups\n",
        "age_bins = [18, 25, 35, 45, 55, 65]\n",
        "age_labels = ['18-25', '26-35', '36-45', '46-55', '56-65']\n",
        "df['age_group'] = pd.cut(df['age'], bins=age_bins, labels=age_labels, right=False)"
      ],
      "metadata": {
        "id": "5HCL3rLI8F7M"
      },
      "execution_count": 40,
      "outputs": []
    },
    {
      "cell_type": "code",
      "source": [
        "# Analysis by age group\n",
        "age_group_analysis = df.groupby('age_group').agg({\n",
        "    'purchase_amount': 'mean',\n",
        "    'loyalty_score': 'mean',\n",
        "    'purchase_frequency': 'mean'\n",
        "}).reset_index()\n",
        "\n",
        "plt.figure(figsize=(15, 6))\n",
        "sns.barplot(x='age_group', y='purchase_amount', data=age_group_analysis)\n",
        "plt.title('Average Purchase Amount by Age Group', fontsize=16)\n",
        "plt.savefig('age_group_purchase.png')\n",
        "plt.close()"
      ],
      "metadata": {
        "id": "G9MMLpTY8IKO"
      },
      "execution_count": 41,
      "outputs": []
    },
    {
      "cell_type": "code",
      "source": [
        "# 8. Income Level Analysis\n",
        "# Create income levels\n",
        "income_bins = [0, 40000, 50000, 60000, 70000, 100000]\n",
        "income_labels = ['<$40K', '$40K-$50K', '$50K-$60K', '$60K-$70K', '$70K+']\n",
        "df['income_level'] = pd.cut(df['annual_income'], bins=income_bins, labels=income_labels)\n"
      ],
      "metadata": {
        "id": "VO9NzDpt8LPv"
      },
      "execution_count": 42,
      "outputs": []
    },
    {
      "cell_type": "code",
      "source": [
        "# Analysis by income level\n",
        "income_level_analysis = df.groupby('income_level').agg({\n",
        "    'purchase_amount': 'mean',\n",
        "    'loyalty_score': 'mean',\n",
        "    'purchase_frequency': 'mean'\n",
        "}).reset_index()\n",
        "\n",
        "plt.figure(figsize=(15, 6))\n",
        "sns.barplot(x='income_level', y='purchase_amount', data=income_level_analysis)\n",
        "plt.title('Average Purchase Amount by Income Level', fontsize=16)\n",
        "plt.savefig('income_level_purchase.png')\n",
        "plt.close()"
      ],
      "metadata": {
        "id": "28k4XMuS8NsH"
      },
      "execution_count": 43,
      "outputs": []
    },
    {
      "cell_type": "code",
      "source": [
        "# Save the processed data\n",
        "df.to_csv('processed_customer_data.csv', index=False)"
      ],
      "metadata": {
        "id": "yh2YyHmf8PuB"
      },
      "execution_count": 44,
      "outputs": []
    },
    {
      "cell_type": "code",
      "source": [],
      "metadata": {
        "id": "DavEbeQl8RtT"
      },
      "execution_count": null,
      "outputs": []
    }
  ]
}